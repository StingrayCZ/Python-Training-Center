{
 "cells": [
  {
   "cell_type": "markdown",
   "id": "a5a19a9b",
   "metadata": {
    "pycharm": {
     "name": "#%% md\n"
    }
   },
   "source": [
    "# Vítejte\n",
    "\n",
    "\n",
    "* něco o mně...\n",
    "* ...něco o Vás\n",
    "\n",
    "## Co tenhle víkend probereme?\n",
    "\n",
    "* funkce\n",
    "* malinko nakousneme i funkce vyšších řádů ;)\n",
    "* seznamy, iterátory, generátory\n",
    "* dekorátory\n",
    "* lambdy - anonymni funkce (viz bod 1)\n",
    "* ...\n",
    "* a kromě těchto nudných věcí si naprogramujeme plánovač letů - takové mini Kiwi :D\n",
    "\n",
    "---"
   ]
  },
  {
   "cell_type": "code",
   "execution_count": null,
   "id": "c66dbf28",
   "metadata": {
    "pycharm": {
     "name": "#%%\n"
    }
   },
   "outputs": [],
   "source": [
    "from __future__ import annotations\n",
    "import csv\n",
    "import typing as t\n",
    "from pprint import pprint\n",
    "\n",
    "\n",
    "# XXX: Tohle nechte plavat, nekdy se k tomu treba vratime!\n",
    "def yield_from_csv(csv_file: str) -> t.Iterable[dict]:\n",
    "    \"\"\"\n",
    "    Open a `csv_file` and **yield** rows as a Python dictionary, ie. one-by-one.\n",
    "    \"\"\"\n",
    "    with open(csv_file, newline=\"\", encoding=\"utf-8\") as f:\n",
    "        for d in csv.DictReader(f):\n",
    "            yield d\n",
    "\n",
    "def list_from_csv(csv_file: str) -> list[dict]:\n",
    "    \"\"\"\n",
    "    Open a `csv_file` and return a list of rows as Python dictionaries.\n",
    "    \"\"\"\n",
    "    # Rovnou konzumujeme ten generator\n",
    "    # return list(yield_from_csv(csv_file))\n",
    "    \n",
    "    result = []\n",
    "    with open(csv_file, newline=\"\", encoding=\"utf-8\") as f:\n",
    "        for d in csv.DictReader(f):\n",
    "            result.append(d)\n",
    "\n",
    "    return result"
   ]
  },
  {
   "cell_type": "code",
   "execution_count": null,
   "id": "8df8194b",
   "metadata": {
    "pycharm": {
     "name": "#%%\n"
    }
   },
   "outputs": [],
   "source": [
    "# Nacteme zaznamy z `.csv`\n",
    "flight_records = list_from_csv(\"flights.csv\")"
   ]
  },
  {
   "cell_type": "code",
   "execution_count": null,
   "id": "be8839ce",
   "metadata": {
    "pycharm": {
     "name": "#%%\n"
    }
   },
   "outputs": [],
   "source": [
    "pprint(flight_records)"
   ]
  },
  {
   "cell_type": "code",
   "execution_count": null,
   "id": "fc94b104",
   "metadata": {
    "pycharm": {
     "name": "#%%\n"
    }
   },
   "outputs": [],
   "source": [
    "# Kolik jich vlastne je?\n",
    "print(len(flight_records))"
   ]
  },
  {
   "cell_type": "code",
   "execution_count": null,
   "id": "2f12eb03",
   "metadata": {
    "pycharm": {
     "name": "#%%\n"
    }
   },
   "outputs": [],
   "source": [
    "first_record = list_from_csv(\"flights.csv\")[0]"
   ]
  },
  {
   "cell_type": "code",
   "execution_count": null,
   "id": "377c142c",
   "metadata": {
    "pycharm": {
     "name": "#%%\n"
    }
   },
   "outputs": [],
   "source": [
    "print(first_record)"
   ]
  },
  {
   "cell_type": "code",
   "execution_count": null,
   "id": "f3874725",
   "metadata": {
    "pycharm": {
     "name": "#%%\n"
    }
   },
   "outputs": [],
   "source": [
    "# Vyhodi `TypeError`, protoze z `.csv` souboru nam to vylezlo jako retezec\n",
    "print(first_record[\"price\"] + 50)"
   ]
  },
  {
   "cell_type": "code",
   "execution_count": null,
   "id": "b6f6ec91",
   "metadata": {
    "pycharm": {
     "name": "#%%\n"
    }
   },
   "outputs": [],
   "source": [
    "# Pokud bucyhom pouzili `csv.reader` misto `csv.DictReader`, dostali bychom to ve forme n-tic, se kterymi\n",
    "# se sice da pracovat, ale po case byste nevedeli, jaky index patri k cemu, tj. ze 0-ty sloupec je `source`,\n",
    "# 3. je `departure` a tak dale...\n",
    "print(tuple(first_record.values()))"
   ]
  },
  {
   "cell_type": "markdown",
   "id": "38f12421",
   "metadata": {
    "pycharm": {
     "name": "#%% md\n"
    }
   },
   "source": [
    "#### Typové anotace\n",
    "\n",
    "```\n",
    "def add(a: int, b: int) -> int:\n",
    "    return a + b\n",
    "```\n",
    "\n",
    "Nejsou Pythonem vynucované (a tím pádem ani já je po vás nebudu chtit ;)), ale \n",
    "- zpřehledňují kód\n",
    "- existují nástroje, které jsou schopné anotace analyzovat a říct vám, jestli nemáte v kódu chybu\n",
    "- PyCharm vám bude líp napovídat a bude na vás svítit, pokud se mu něco nebude zdát ;)\n",
    "\n",
    "Více zde: https://docs.python.org/3/library/typing.html"
   ]
  },
  {
   "cell_type": "markdown",
   "id": "58bf75c5",
   "metadata": {
    "pycharm": {
     "name": "#%% md\n"
    }
   },
   "source": [
    "#### Iterátory\n",
    "\n",
    "\"funkce\" `yield_from_csv` je zvláštní, protože vám nevrátí seznam, ale jakýsí \"generátor\" objekt -"
   ]
  },
  {
   "cell_type": "code",
   "execution_count": null,
   "id": "a00c309f",
   "metadata": {
    "pycharm": {
     "name": "#%%\n"
    }
   },
   "outputs": [],
   "source": [
    "from_csv = yield_from_csv(\"flights.csv\")\n",
    "print(type(from_csv))"
   ]
  },
  {
   "cell_type": "markdown",
   "id": "190933f7",
   "metadata": {
    "pycharm": {
     "name": "#%% md\n"
    }
   },
   "source": [
    "generátor nemá žádné prvky a hlavně se zatím neprovedla žádné čtení souboru - to se provede až při zavolání `next` na daný generátor."
   ]
  },
  {
   "cell_type": "code",
   "execution_count": null,
   "id": "eac68176",
   "metadata": {
    "pycharm": {
     "name": "#%%\n"
    }
   },
   "outputs": [],
   "source": [
    "next(from_csv)"
   ]
  },
  {
   "cell_type": "markdown",
   "id": "924ea45a",
   "metadata": {
    "pycharm": {
     "name": "#%% md\n"
    }
   },
   "source": [
    "volat pořád `next` by bylo hodně neohrabané, takže funkce jako `list`, `tuple`, `set` zavolané na generátor ho\n",
    "projedou až do konce."
   ]
  },
  {
   "cell_type": "code",
   "execution_count": null,
   "id": "0fc2135f",
   "metadata": {
    "pycharm": {
     "name": "#%%\n"
    }
   },
   "outputs": [],
   "source": [
    "records_without_first = list(from_csv)"
   ]
  },
  {
   "cell_type": "markdown",
   "id": "186660b9",
   "metadata": {
    "pycharm": {
     "name": "#%% md\n"
    }
   },
   "source": [
    "generátor ale **nemá** žadnou možnost jít dozadu, tj. žádná funkce `previous` není - k prkvům, které už jsme\n",
    "prošli skrz `next` a neuložili si je, už nemáme přístup!"
   ]
  },
  {
   "cell_type": "code",
   "execution_count": null,
   "id": "15be820c",
   "metadata": {
    "pycharm": {
     "name": "#%%\n"
    }
   },
   "outputs": [],
   "source": [
    "first = next(from_csv)"
   ]
  },
  {
   "cell_type": "markdown",
   "id": "ee2f3e1a",
   "metadata": {
    "pycharm": {
     "name": "#%% md\n"
    }
   },
   "source": [
    "To, že je generátor prazdný, poznáme podle toho, že se vyhodí speciální vyjímka - `StopIteration`"
   ]
  },
  {
   "cell_type": "code",
   "execution_count": null,
   "id": "82ccaf20",
   "metadata": {
    "pycharm": {
     "name": "#%%\n"
    }
   },
   "outputs": [],
   "source": [
    "print(len(records_without_first), len(flight_records))"
   ]
  },
  {
   "cell_type": "markdown",
   "id": "9429456a",
   "metadata": {
    "pycharm": {
     "name": "#%% md\n"
    }
   },
   "source": [
    "#### K čemu teda jsou a jaké jsou jejich výhody a nevýhody?\n",
    "\n",
    "- umožňují vám držet v paměti potenciálně nekonečné data\n",
    "- práci nevykonáte hned, ale komponujete funkce nad daty, které pak vyhodnotíte, až je budete skutečně potřebovat\n",
    "\n",
    "---\n",
    "\n",
    "- seznamy prostě držíte v paměti a nemusíte si pamatovat, kolikrát jste je prošli\n",
    "- narozdíl od seznamů neumožňují přístup podle indexu, napr. `my_list[5]`\n",
    "- úplně nový koncept, který je obtížný na zpracování\n",
    "- ...\n",
    "\n",
    "---"
   ]
  },
  {
   "cell_type": "markdown",
   "id": "0397ffaf",
   "metadata": {
    "pycharm": {
     "name": "#%% md\n"
    }
   },
   "source": [
    "### Úkol\n",
    "\n",
    "Napište funkci, která vrátí všechny unikátní dvojice letišť, mezi kterými lítají letadla.\n",
    "\n",
    "```\n",
    "def unique_airport_combinations(flights):\n",
    "    ...\n",
    "```\n",
    "\n",
    "Vracet to bude množinu všech dvojic, například:\n",
    "\n",
    "```\n",
    "{(\"DPS\", \"HKT\"), ...}\n",
    "```\n",
    "\n",
    "V dokumentaci si můžete přečíst něco o tom, jak se používají množiny a n-tice:\n",
    "\n",
    "* https://docs.python.org/3/library/stdtypes.html#set-types-set-frozenset\n",
    "* https://docs.python.org/3/library/stdtypes.html#tuples\n",
    "\n",
    "\n",
    "**BONUS** Modifikujte funkci tak, aby vracela nikoliv dvojice, ale řetězec tvaru `<source>-><destination>`, takže například\n",
    "\n",
    "```\n",
    "{\"DPS->HKT\", ...}\n",
    "```"
   ]
  },
  {
   "cell_type": "code",
   "execution_count": null,
   "id": "db8e4540",
   "metadata": {
    "pycharm": {
     "name": "#%%\n"
    }
   },
   "outputs": [],
   "source": [
    "def unique_flight_combinations_v1(flights: t.Iterable[dict]) -> set[tuple[str, str]]:\n",
    "    result = []\n",
    "    for flight in flights:\n",
    "        result.append((flight[\"source\"], flight[\"destination\"]))\n",
    "\n",
    "    return set(result)\n",
    "\n",
    "\n",
    "def unique_flight_combinations_v2(flights: t.Iterable[dict]) -> set[tuple[str, str]]:\n",
    "    result = set()\n",
    "    for flight in flights:\n",
    "        result.add((flight[\"source\"], flight[\"destination\"]))\n",
    "\n",
    "    return result\n",
    "\n",
    "\n",
    "def unique_flight_combinations_v3(flights: t.Iterable[dict]) -> set[tuple[str, str]]:\n",
    "    # Kompaktni zapis pres set-comprehension\n",
    "    # https://www.pythonforbeginners.com/basics/set-comprehension-in-python\n",
    "    return {(flight[\"source\"], flight[\"destination\"]) for flight in flights}"
   ]
  },
  {
   "cell_type": "code",
   "execution_count": null,
   "id": "17099ee1",
   "metadata": {
    "pycharm": {
     "name": "#%%\n"
    }
   },
   "outputs": [],
   "source": [
    "# Vsechny davaji stejny vysledek\n",
    "print(unique_flight_combinations_v1(flight_records))\n",
    "print(unique_flight_combinations_v2(flight_records))\n",
    "print(unique_flight_combinations_v3(flight_records))"
   ]
  },
  {
   "cell_type": "code",
   "execution_count": null,
   "id": "aaa4c242",
   "metadata": {
    "pycharm": {
     "name": "#%%\n"
    }
   },
   "outputs": [],
   "source": [
    "def unique_flight_combinations_bonus_v1(flights: t.Iterable[dict]) -> set[str]:\n",
    "    result = []\n",
    "    for flight in flights:\n",
    "        result.append(f\"{flight['source']}->{flight['destination']}\")\n",
    "\n",
    "    return set(result)\n",
    "\n",
    "\n",
    "def unique_flight_combinations_bonus_v2(flights: t.Iterable[dict]) -> set[str]:\n",
    "    result = set()\n",
    "    for flight in flights:\n",
    "        result.add(f\"{flight['source']}->{flight['destination']}\")\n",
    "\n",
    "    return result\n",
    "\n",
    "\n",
    "def unique_flight_combinations_bonus_v3(flights: t.Iterable[dict]) -> set[str]:\n",
    "    # Kompaktni zapis pres set-comprehension\n",
    "    # https://www.pythonforbeginners.com/basics/set-comprehension-in-python\n",
    "    return {f\"{flight['source']}->{flight['destination']}\" for flight in flights}"
   ]
  },
  {
   "cell_type": "code",
   "execution_count": null,
   "id": "5cc0603f",
   "metadata": {
    "scrolled": true,
    "pycharm": {
     "name": "#%%\n"
    }
   },
   "outputs": [],
   "source": [
    "# Vsechny davaji stejny vysledek\n",
    "print(unique_flight_combinations_bonus_v1(flight_records))\n",
    "print(unique_flight_combinations_bonus_v2(flight_records))\n",
    "print(unique_flight_combinations_bonus_v3(flight_records))"
   ]
  },
  {
   "cell_type": "markdown",
   "id": "794add1f",
   "metadata": {
    "pycharm": {
     "name": "#%% md\n"
    }
   },
   "source": [
    "### Povídání o rozdílech mezi seznamem, množinou, slovníkem..."
   ]
  },
  {
   "cell_type": "code",
   "execution_count": null,
   "id": "f123fc7b",
   "metadata": {
    "pycharm": {
     "name": "#%%\n"
    }
   },
   "outputs": [],
   "source": [
    "my_list = [1, 2, 3, 4, 1, 1, 2]"
   ]
  },
  {
   "cell_type": "code",
   "execution_count": null,
   "id": "8c4acf26",
   "metadata": {
    "pycharm": {
     "name": "#%%\n"
    }
   },
   "outputs": [],
   "source": [
    "# seznam jde indexovat\n",
    "print(my_list[2])"
   ]
  },
  {
   "cell_type": "code",
   "execution_count": null,
   "id": "3550d388",
   "metadata": {
    "pycharm": {
     "name": "#%%\n"
    }
   },
   "outputs": [],
   "source": [
    "# `set` jde zavolat na `list`, abyste se zbavili duplikatu.\n",
    "print(set([1, 2, 3, 4, 1, 1, 2]))"
   ]
  },
  {
   "cell_type": "code",
   "execution_count": null,
   "id": "6f955b78",
   "metadata": {
    "pycharm": {
     "name": "#%%\n"
    }
   },
   "outputs": [],
   "source": [
    "# Konstrukce mnoziny sama o sobe se taky zbavi duplikatu :) \n",
    "my_set = {5, 1, 2, 3, 4, 1, 1, 2}"
   ]
  },
  {
   "cell_type": "code",
   "execution_count": null,
   "id": "260ebb7c",
   "metadata": {
    "pycharm": {
     "name": "#%%\n"
    }
   },
   "outputs": [],
   "source": [
    "print(my_set)"
   ]
  },
  {
   "cell_type": "code",
   "execution_count": null,
   "id": "34381040",
   "metadata": {
    "pycharm": {
     "name": "#%%\n"
    }
   },
   "outputs": [],
   "source": [
    "# Mnozina nejde indexovat - vyhodi to `TyperError`\n",
    "my_set[0]"
   ]
  },
  {
   "cell_type": "code",
   "execution_count": null,
   "id": "5cc7fb44",
   "metadata": {
    "pycharm": {
     "name": "#%%\n"
    }
   },
   "outputs": [],
   "source": [
    "my_dict = {\"a\": 1, \"b\": 2}"
   ]
  },
  {
   "cell_type": "code",
   "execution_count": null,
   "id": "bcb7ec95",
   "metadata": {
    "pycharm": {
     "name": "#%%\n"
    }
   },
   "outputs": [],
   "source": [
    "# Ke klicum ve slovniku pristupujeme pres hranate zavorky\n",
    "print(my_dict[\"a\"])"
   ]
  },
  {
   "cell_type": "code",
   "execution_count": null,
   "id": "a51a2250",
   "metadata": {
    "pycharm": {
     "name": "#%%\n"
    }
   },
   "outputs": [],
   "source": [
    "# Uzitecna vlastnost mnoziny - extremne rychly test, zda dany prvek v mnozine je ci ne\n",
    "print(1 in my_set)\n",
    "print(420 in my_set)"
   ]
  },
  {
   "cell_type": "code",
   "execution_count": null,
   "id": "9b3fb3f8",
   "metadata": {
    "pycharm": {
     "name": "#%%\n"
    }
   },
   "outputs": [],
   "source": [
    "# Odeber nahodny prvek z mnoziny a dej ho do promenne `random_element`\n",
    "random_element = my_set.pop()"
   ]
  },
  {
   "cell_type": "code",
   "execution_count": null,
   "id": "41900924",
   "metadata": {
    "pycharm": {
     "name": "#%%\n"
    }
   },
   "outputs": [],
   "source": [
    "print(my_set)"
   ]
  },
  {
   "cell_type": "code",
   "execution_count": null,
   "id": "3d6c7255",
   "metadata": {
    "pycharm": {
     "name": "#%%\n"
    }
   },
   "outputs": [],
   "source": [
    "print(random_element)"
   ]
  },
  {
   "cell_type": "code",
   "execution_count": null,
   "id": "96fcd217",
   "metadata": {
    "pycharm": {
     "name": "#%%\n"
    }
   },
   "outputs": [],
   "source": [
    "# Muzeme predelat mnozinu na seznam - pak uz muzeme indexovat\n",
    "elements = list(my_set)"
   ]
  },
  {
   "cell_type": "code",
   "execution_count": null,
   "id": "d9fbd1d7",
   "metadata": {
    "pycharm": {
     "name": "#%%\n"
    }
   },
   "outputs": [],
   "source": [
    "print(elements)\n",
    "print(elements[0])"
   ]
  },
  {
   "cell_type": "code",
   "execution_count": null,
   "id": "2a762c03",
   "metadata": {
    "pycharm": {
     "name": "#%%\n"
    }
   },
   "outputs": [],
   "source": [
    "# Jaky je rozdil mezi\n",
    "# my_dict[\"a\"] a my_dict.get(\"a\") ?\n",
    "print(my_dict[\"a\"])\n",
    "print(my_dict.get(\"a\"))\n",
    "\n",
    "# V pripade, kdy klic ve slovniku je, zadny rozdil"
   ]
  },
  {
   "cell_type": "code",
   "execution_count": null,
   "id": "9a210a85",
   "metadata": {
    "pycharm": {
     "name": "#%%\n"
    }
   },
   "outputs": [],
   "source": [
    "# Vyhodi `KeyError` - klic `abc` neni ve slovniku!\n",
    "print(my_dict[\"abc\"])"
   ]
  },
  {
   "cell_type": "code",
   "execution_count": null,
   "id": "759e1025",
   "metadata": {
    "pycharm": {
     "name": "#%%\n"
    }
   },
   "outputs": [],
   "source": [
    "# `.get` v pripade, ze neni klic neni ve slovniku, vraci `None`.\n",
    "print(my_dict.get(\"abc\"))"
   ]
  },
  {
   "cell_type": "code",
   "execution_count": null,
   "id": "0f625fd4",
   "metadata": {
    "pycharm": {
     "name": "#%%\n"
    }
   },
   "outputs": [],
   "source": [
    "# Muzeme to potunit i druhym, volitelnym argument, kterym dame najevo, jakou hodnotu ma `.get` vratit, kdyz\n",
    "# tam klic neni\n",
    "print(my_dict.get(\"abc\", \"Nic tu neni!\"))"
   ]
  },
  {
   "cell_type": "markdown",
   "id": "37826cb0",
   "metadata": {
    "pycharm": {
     "name": "#%% md\n"
    }
   },
   "source": [
    "### Úkol\n",
    "\n",
    "Naimplementujte funkci `parse_flight_info`, která bude brát slovník, který jsme dostali z toho `csv`,\n",
    "a vrátí taktéž slovník, který už ale nebude mít cenu a jiné položky jako řetězce a datum bude pěkně v `datetime` objektu.\n",
    "\n",
    "tj. slovník\n",
    "\n",
    "```\n",
    "{'source': 'USM',\n",
    " 'destination': 'HKT',\n",
    " 'departure': '2017-02-11T06:25:00',\n",
    " 'arrival': '2017-02-11T07:25:00',\n",
    " 'flight_number': 'PV404',\n",
    " 'price': '24',\n",
    " 'bags_allowed': '1',\n",
    " 'bag_price': '9'}\n",
    "```\n",
    "\n",
    "bude po transformaci vypadat následovně\n",
    "\n",
    "```\n",
    "{'source': 'USM',\n",
    "'destination': 'HKT',\n",
    "'departure': datetime.datetime(2017, 2, 11, 6, 25),\n",
    "'arrival': datetime.datetime(2017, 2, 11, 7, 25),\n",
    "'flight_number': 'PV404',\n",
    "'price': 24,\n",
    "'bags_allowed': 1,\n",
    "'bag_price': 9}\n",
    "```\n",
    "\n",
    "Tj. \n",
    "```\n",
    "def parse_flight_info(d: dict) -> dict:\n",
    "    # Vase implementace zde\n",
    "```\n",
    "\n",
    "Možná se vám bude hodit funkce `datetime.fromisformat` - https://docs.python.org/3/library/datetime.html#datetime.datetime.fromisoformat\n",
    "\n",
    "\n",
    "**BONUS** Vytvořte další funkce `yield_parsed_from_csv` a `list_parsed_from_csv`, které budou brát 2 parametry -\n",
    "`parser` a `csv_file`.\n",
    "\n",
    "- `parser` bude funkce (ano, můžeme předávat funkci jako parametr jinou funkci!)\n",
    "- `csv_file` bude mít význám jako původně\n",
    "\n",
    "které budou dělat to stejné, jako jejich nemodifikované předlohy `yield/list_from_csv`, jen všechny prvky už budou prohnané skrz ten `parser`\n",
    "\n",
    "```\n",
    "def yield_parsed_from_csv(parser, csv_file: str):\n",
    "    ...\n",
    "```"
   ]
  },
  {
   "cell_type": "markdown",
   "id": "95db2007",
   "metadata": {
    "pycharm": {
     "name": "#%% md\n"
    }
   },
   "source": [
    "#### Honzova implementace\n",
    "\n",
    "funkcni, ale operuje na celem seznamu - spis bych chtel funkce, ktera bere 1 prvek\n",
    "\n",
    "```\n",
    "def parse_flight_info(flights):\n",
    "\n",
    "    for flight in flights:\n",
    "        flight[\"departure\"] = datetime.fromisoformat(flight.get(\"departure\"))\n",
    "        flight[\"arrival\"] = datetime.fromisoformat(flight.get(\"arrival\"))\n",
    "        flight[\"price\"] = int(flight.get(\"price\"))\n",
    "        flight[\"bags_allowed\"] = int(flight.get(\"bags_allowed\"))\n",
    "        flight[\"bag_price\"] = int(flight[\"bag_price\"])\n",
    "    return flights\n",
    "```"
   ]
  },
  {
   "cell_type": "markdown",
   "id": "8ddec84c",
   "metadata": {
    "pycharm": {
     "name": "#%% md\n"
    }
   },
   "source": [
    "#### Schematicky zapis\n",
    "\n",
    "- vsimnete si toho mnozneho cisla \n",
    "```\n",
    "def parse_flight_infos(flights):\n",
    "    result = []\n",
    "    for flight in flights:\n",
    "        # Kazdy zaznam transformuj\n",
    "        parsed = parse_flight_info(flight)\n",
    "        result.append(parsed)\n",
    "\n",
    "    # Vrat vsechny transformovane\n",
    "    return result\n",
    "```"
   ]
  },
  {
   "cell_type": "code",
   "execution_count": null,
   "id": "448e9e3e",
   "metadata": {
    "pycharm": {
     "name": "#%%\n"
    }
   },
   "outputs": [],
   "source": [
    "# Implementace ukolu\n",
    "def parse_flight_info(raw: dict) -> dict:\n",
    "    return {\n",
    "        \"source\": raw[\"source\"],\n",
    "        \"destination\": raw[\"destination\"],\n",
    "        \"flight_number\": raw[\"flight_number\"],\n",
    "        \"price\": int(raw[\"price\"]),\n",
    "        \"bags_allowed\": int(raw[\"bags_allowed\"]),\n",
    "        \"bag_price\": int(raw[\"bag_price\"]),\n",
    "        \"departure\": datetime.fromisoformat(raw[\"departure\"]),\n",
    "        \"arrival\": datetime.fromisoformat(raw[\"arrival\"])\n",
    "    }"
   ]
  },
  {
   "cell_type": "code",
   "execution_count": null,
   "id": "bb1baebe",
   "metadata": {
    "scrolled": true,
    "pycharm": {
     "name": "#%%\n"
    }
   },
   "outputs": [],
   "source": [
    "# Kdyz napiseme funkci bez zavorek, je to pythoni objekt typu `function`\n",
    "print(parse_flight_info)\n",
    "print(type(parse_flight_info))"
   ]
  },
  {
   "cell_type": "code",
   "execution_count": null,
   "id": "758b7b0f",
   "metadata": {
    "pycharm": {
     "name": "#%%\n"
    }
   },
   "outputs": [],
   "source": [
    "# Pro pripomentu - `first_record` je 1. radek v csv souboru\n",
    "\n",
    "# nezpracovany\n",
    "pprint(first_record)\n",
    "\n",
    "#\n",
    "print(\"\\n\")\n",
    "#\n",
    "\n",
    "# zpracovany - vsimente si toho `datetime` objektu a i cisel misto retezcu\n",
    "pprint(parse_flight_info(first_record))"
   ]
  },
  {
   "cell_type": "code",
   "execution_count": null,
   "id": "def771e2",
   "metadata": {
    "pycharm": {
     "name": "#%%\n"
    }
   },
   "outputs": [],
   "source": [
    "# Implementace bonusoveho ukolu - na `yield_` variantu zapomente :D\n",
    "def list_parsed_from_csv(      \n",
    "    parser_function: t.Callable[[dict], dict],                                              \n",
    "    csv_file: str,                                                                          \n",
    ") -> list[dict]:\n",
    "    # Vytahneme prvne nezpracovane zaznamy z `.csv`\n",
    "    unparsed_records = list_from_csv(csv_file)                                                                          \n",
    "                                                                                                               \n",
    "    result = []                                                                                                            \n",
    "    for record in unparsed_records:\n",
    "        # Na kazdy zaznam aplikujeme tu fuknci `parser_function`\n",
    "        parsed = parser_function(record)\n",
    "        result.append(parsed)                    \n",
    "                                                                                                                 \n",
    "    return result"
   ]
  },
  {
   "cell_type": "code",
   "execution_count": null,
   "id": "1c68b0d2",
   "metadata": {
    "pycharm": {
     "name": "#%%\n"
    }
   },
   "outputs": [],
   "source": [
    "parsed_records = list_parsed_from_csv(parse_flight_info, csv_file=\"flights.csv\")"
   ]
  },
  {
   "cell_type": "code",
   "execution_count": null,
   "id": "ad83b63b",
   "metadata": {
    "pycharm": {
     "name": "#%%\n"
    }
   },
   "outputs": [],
   "source": [
    "# `datetime` jsou na miste, stejne jako cisla :)\n",
    "# Kuprikladu posledni zaznam\n",
    "pprint(parsed_records[-1])"
   ]
  },
  {
   "cell_type": "markdown",
   "id": "a0b68d83",
   "metadata": {
    "pycharm": {
     "name": "#%% md\n"
    }
   },
   "source": [
    "### Funkce jako parametry jiných funkcí?!\n",
    "\n",
    "Už jste se s tím setkali - například funkce `max`, `min`, `sorted` berou jako nepovinný parametr `key`, což je funkce, která určuje řadící kritérium"
   ]
  },
  {
   "cell_type": "code",
   "execution_count": null,
   "id": "bae9819d",
   "metadata": {
    "pycharm": {
     "name": "#%%\n"
    }
   },
   "outputs": [],
   "source": [
    "# pouzivame vychozi razeni - abecedne\n",
    "print(max([\"avocado\", \"apple\", \"banana\", \"peach\", \"pineapple\"]))"
   ]
  },
  {
   "cell_type": "code",
   "execution_count": null,
   "id": "1214a02b",
   "metadata": {
    "pycharm": {
     "name": "#%%\n"
    }
   },
   "outputs": [],
   "source": [
    "# radime podle delky toho retezce\n",
    "print(max([\"avocado\", \"apple\", \"banana\", \"peach\"], key=len))"
   ]
  },
  {
   "cell_type": "code",
   "execution_count": null,
   "id": "10b94483",
   "metadata": {
    "pycharm": {
     "name": "#%%\n"
    }
   },
   "outputs": [],
   "source": [
    "# muzeme radit i podle neobvyklych kriterii, napriklad posledni pismeno daneho slova :D\n",
    "print(max([\"avocado\", \"apple\", \"banana\", \"peach\", \"pineapple\"], key=lambda x: x[-1]))"
   ]
  },
  {
   "cell_type": "code",
   "execution_count": null,
   "id": "718fae56",
   "metadata": {
    "pycharm": {
     "name": "#%%\n"
    }
   },
   "outputs": [],
   "source": [
    "# Tohle vyhodi `TypeError`, protoze nejde porovnavat 2 slovniky\n",
    "print(max([{\"value\": 5}, {\"value\": 1}, {\"value\": 3}]))"
   ]
  },
  {
   "cell_type": "code",
   "execution_count": null,
   "id": "b2b23f8c",
   "metadata": {
    "pycharm": {
     "name": "#%%\n"
    }
   },
   "outputs": [],
   "source": [
    "# `key` argument nas zachrani!\n",
    "# Vrati to prvek, ktery ma nejvyssi hodnotu u klice `value`\n",
    "print(max([{\"value\": 5}, {\"value\": 1}, {\"value\": 3}], key=lambda x: x[\"value\"]))"
   ]
  },
  {
   "cell_type": "markdown",
   "id": "78daf764",
   "metadata": {
    "pycharm": {
     "name": "#%% md\n"
    }
   },
   "source": [
    "### Úkol\n",
    "\n",
    "Napište funkce, které budou jako parametr brát seznam letů a vrátí\n",
    "\n",
    "- kolik stál nejdražší let\n",
    "- kolik stál nejlevnější let\n",
    "- jak byl dlouhý nejdelší let\n",
    "- kolik bylo nejvíce povolených zavazadel\n",
    "\n",
    "Například:\n",
    "\n",
    "```\n",
    "def longest_flight_duration(flights) -> int:\n",
    "    # Vase implementace zde\n",
    "```\n",
    "\n",
    "PS: Nemusíte jít popořadě a zároveň se nemusíte stresovat, že nemáte všechny"
   ]
  },
  {
   "cell_type": "markdown",
   "id": "4b70671c",
   "metadata": {
    "pycharm": {
     "name": "#%% md\n"
    }
   },
   "source": [
    "### Úkol\n",
    "\n",
    "Napište funkci, která bude brát jako parametr let a číslo vyjadřující počet zavazadel a vrátí \n",
    "`True/False` podle toho, jestli je umožněno mít s sebou tolik zavazadel na daném letu.\n",
    "\n",
    "\n",
    "```\n",
    "def number_of_bags_allowed(flight: dict, bags: int) -> bool:\n",
    "    # Vase implementace zde\n",
    "```"
   ]
  },
  {
   "cell_type": "markdown",
   "id": "abaec596",
   "metadata": {
    "pycharm": {
     "name": "#%% md\n"
    }
   },
   "source": [
    "### Úkol\n",
    "\n",
    "Napište funkci, která bude brát jako parametr let a číslo vyjadřující počet zavazadel a vrátí \n",
    "celkovou cenu letenky.\n",
    "\n",
    "Využijte k tomu již vytvořenou funkci `number_of_bags_allowed`. Pokud daný počet zavazadel není umožněn,\n",
    "vyhoďte vyjímku `ValueError(\"Invalid number of bags!\")`\n",
    "\n",
    "\n",
    "```\n",
    "def number_of_bags_allowed(flight: dict, bags: int) -> bool:\n",
    "    # Vase implementace zde\n",
    "```"
   ]
  },
  {
   "cell_type": "code",
   "execution_count": null,
   "id": "cbb90c83",
   "metadata": {
    "pycharm": {
     "name": "#%%\n"
    }
   },
   "outputs": [],
   "source": []
  }
 ],
 "metadata": {
  "kernelspec": {
   "display_name": "Python 3",
   "language": "python",
   "name": "python3"
  },
  "language_info": {
   "codemirror_mode": {
    "name": "ipython",
    "version": 3
   },
   "file_extension": ".py",
   "mimetype": "text/x-python",
   "name": "python",
   "nbconvert_exporter": "python",
   "pygments_lexer": "ipython3",
   "version": "3.9.7"
  }
 },
 "nbformat": 4,
 "nbformat_minor": 5
}