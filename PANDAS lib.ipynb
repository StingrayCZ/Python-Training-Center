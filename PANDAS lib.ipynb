{
 "cells": [
  {
   "cell_type": "markdown",
   "id": "8fbdc18b",
   "metadata": {},
   "source": [
    "## Pandas - Python Data Analysis Library"
   ]
  },
  {
   "cell_type": "code",
   "execution_count": null,
   "id": "ed114e1f",
   "metadata": {},
   "outputs": [],
   "source": [
    "pip install pandas"
   ]
  },
  {
   "cell_type": "raw",
   "id": "655500e1",
   "metadata": {},
   "source": [
    "import pandas\n",
    "# import pandas as pd "
   ]
  },
  {
   "cell_type": "markdown",
   "id": "c30bc6da",
   "metadata": {},
   "source": [
    "Pandas slouží pro analýzu dat, které lze reprezentovat 2D tabulkou. Tento „tvar” dat najdeme v SQL databázích, souborech CSV nebo tabulkových procesorech. Stručně řečeno, co jde dělat v Excelu, jde dělat i v Pandas"
   ]
  },
  {
   "cell_type": "markdown",
   "id": "fb51a5dc",
   "metadata": {},
   "source": [
    "### Pandas tutorial\n",
    "docs: https://pandas.pydata.org/docs/reference/api/pandas.DataFrame.at.html  -- ukázat, nasdílet\n"
   ]
  },
  {
   "cell_type": "markdown",
   "id": "122f2be0",
   "metadata": {},
   "source": [
    "### Jak vytvořit dataset"
   ]
  },
  {
   "cell_type": "code",
   "execution_count": 1,
   "id": "1be4de89",
   "metadata": {},
   "outputs": [],
   "source": [
    "import pandas as pd"
   ]
  },
  {
   "cell_type": "code",
   "execution_count": 2,
   "id": "42a6c5cd",
   "metadata": {},
   "outputs": [
    {
     "name": "stdout",
     "output_type": "stream",
     "text": [
      "<class 'dict'>\n",
      "<class 'pandas.core.frame.DataFrame'>\n",
      "   first     last                    email\n",
      "0  Corey  Schafer  CoreyMSchafer@gmail.com\n",
      "1   Jane      Doe        JaneDoe@email.com\n",
      "2   John      Doe        JohnDoe@email.com\n"
     ]
    }
   ],
   "source": [
    "# Dataframe (DF) tvoříme ze složeného slovníku - Klíče jsou názvy sloupců, hodnoty (v listu) jsou data v řádcích\n",
    "\n",
    "people = {\n",
    "    \"first\": [\"Corey\", 'Jane', 'John'],\n",
    "    \"last\": [\"Schafer\", 'Doe', 'Doe'],\n",
    "    \"email\": [\"CoreyMSchafer@gmail.com\", 'JaneDoe@email.com', 'JohnDoe@email.com']\n",
    "}\n",
    "\n",
    "print(type(people))\n",
    "\n",
    "people_df = pd.DataFrame(people)\n",
    "\n",
    "print(type(people_df))\n",
    "\n",
    "print(people_df)"
   ]
  },
  {
   "cell_type": "code",
   "execution_count": 15,
   "id": "a4cb2dcd",
   "metadata": {},
   "outputs": [
    {
     "name": "stdout",
     "output_type": "stream",
     "text": [
      "           country          capital      continent language\n",
      "0    United States  Washington D.C.  North America  English\n",
      "1  The Netherlands        Amsterdam         Europe    Dutch\n",
      "2            Spain           Madrid         Europe  Spanish\n",
      "3           Mexico      Mexico City  North America  Spanish\n",
      "4        Australia         Canberra      Australia  English\n"
     ]
    }
   ],
   "source": [
    "# Vytvoření DF rovnou bez mezi proměnné #zkopírovat do channelu pro práci\n",
    "\n",
    "countries_df = pd.DataFrame({\n",
    "'country': ['United States', 'The Netherlands', 'Spain', 'Mexico', 'Australia'],\n",
    "'capital': ['Washington D.C.', 'Amsterdam', 'Madrid', 'Mexico City', 'Canberra'],\n",
    "'continent': ['North America', 'Europe', 'Europe', 'North America', 'Australia'],\n",
    "'language': ['English', 'Dutch', 'Spanish', 'Spanish', 'English']})\n",
    "\n",
    "print(countries_df)"
   ]
  },
  {
   "cell_type": "code",
   "execution_count": 119,
   "id": "bc27ae85",
   "metadata": {},
   "outputs": [],
   "source": [
    "# nahrávání rovnou z csv souboru\n",
    "df = pd.read_csv(\"top100banks.csv\")  # add later index_col=\"rank\" # ukázat a vysvětlit index\n",
    "#pd.set_option('display.max_columns', 8)  #!must be pd not df! # nastavení zobrazení, ukázat bez\n",
    "#pd.set_option('display.max_rows', 85)\n",
    "#print(df)\n",
    "\n",
    "\n",
    "#nastaveni indexu\n",
    "#df = pd.read_csv(\"top100banks.csv\", index_col=\"rank\") \n",
    "#df = df.set_index(\"rank\")\n",
    "\n",
    "#df = pd.read_csv(\"top100banks.csv\", index_col=\"country\") # sloupec country je dvakrát ve výsledku - 1) index, 2) coutry\n",
    "# print(df) \n",
    "\n"
   ]
  },
  {
   "cell_type": "markdown",
   "id": "3eb044b6",
   "metadata": {},
   "source": [
    "### Základní funkce"
   ]
  },
  {
   "cell_type": "code",
   "execution_count": 14,
   "id": "87370c5b",
   "metadata": {},
   "outputs": [
    {
     "name": "stdout",
     "output_type": "stream",
     "text": [
      "   rank                                   bank country total_assets_us_b  \\\n",
      "0     1  Industrial & Commercial Bank of China   China          4,005.58   \n",
      "1     2           China Construction Bank Corp   China          3,397.13   \n",
      "2     3             Agricultural Bank of China   China          3,232.68   \n",
      "3     4                          Bank of China   China          2,989.16   \n",
      "4     5         Mitsubishi UFJ Financial Group   Japan          2,773.82   \n",
      "\n",
      "  balance_sheet  \n",
      "0    2017-12-31  \n",
      "1    2017-12-31  \n",
      "2    2017-12-31  \n",
      "3    2017-12-31  \n",
      "4    2017-12-31  \n"
     ]
    }
   ],
   "source": [
    "#print(type(df)) # objekt\n",
    "#print(df.tail(20)) # tail = ocas = posledních xx řádků\n",
    "\n",
    "#print(df.head(5)) # head = hlava = prvních xx řádků\n",
    "\n",
    "# DATAFRAME SHAPE\n",
    "#print(df.shape) # shape = tvar"
   ]
  },
  {
   "cell_type": "markdown",
   "id": "bc4b7b4c",
   "metadata": {},
   "source": [
    "### Přístup k datům ze sloupců"
   ]
  },
  {
   "cell_type": "markdown",
   "id": "93e736b5",
   "metadata": {},
   "source": [
    "### funkce loc a iloc \n",
    "https://towardsdatascience.com/how-to-use-loc-and-iloc-for-selecting-data-in-pandas-bd09cb4c3d79 # můžete si otevřít jako pomocný materiál\n",
    "\n",
    "\n",
    "jupyter notebook z článku - https://github.com/BindiChen/machine-learning/blob/master/data-analysis/030-pandas-loc-and-iloc/pandas-loc-and-iloc.ipynb"
   ]
  },
  {
   "cell_type": "raw",
   "id": "7034a450",
   "metadata": {},
   "source": [
    " # loc je label-based - to znamená že musíme specifikovat řádky a sloupce podle jejich názvu = labelu\n",
    "   # řádky nemusí být jen indexované! \n",
    "   \n",
    " # iloc je integer position-based - musíme specifikovat řádky a sloupce podle jejich číselné (integer) pozice\n",
    " \n",
    " # ukázat tabulku z článku"
   ]
  },
  {
   "cell_type": "raw",
   "id": "faa1a5f3",
   "metadata": {},
   "source": [
    "# syntax \n",
    "\n",
    "# loc[row_label, column_label]\n",
    "\n",
    "# iloc[row_position, column_position]\n",
    "\n",
    "# dostat všechny řádky - df.loc[:, 'sloupec']\n",
    "# dostat všechny řádky - df.iloc[:, 'index_sloupec']\n",
    "\n",
    "# k zamyšlení - jak dostat všechny sloupce pro daný řádek? \n",
    "\n",
    "# dostat všechny sloupce - df.loc[\"radek\", :]\n",
    "# dostat všechny sloupce - df.iloc[2, :]\n",
    "\n"
   ]
  },
  {
   "cell_type": "markdown",
   "id": "885c021c",
   "metadata": {},
   "source": [
    "#### Úkoly z coutries_df\n",
    "1) udělejte si countries_df dataframe ze slovníku dat -> nasdíleno do slack channelu\n",
    "\n",
    "2) nastavte index sloupec na zemi (country)\n",
    "\n",
    "3) napište pomocí loc a iloc \"query\" (vysvětlit co je to query!) abyste získali hlavní město Mexika\n",
    "\n",
    "4) napište pomocí loc a iloc \"query\" abyste získali všechny jazyky\n",
    "\n",
    "5) napište pomocí loc a iloc \"query\" abyste získali všechny data pro Španělsko\n",
    "\n"
   ]
  },
  {
   "cell_type": "code",
   "execution_count": 41,
   "id": "ea71aa7a",
   "metadata": {},
   "outputs": [
    {
     "name": "stdout",
     "output_type": "stream",
     "text": [
      "                                    bank total_assets_us_b\n",
      "0  Industrial & Commercial Bank of China          4,005.58\n",
      "1           China Construction Bank Corp          3,397.13\n",
      "2             Agricultural Bank of China          3,232.68\n",
      "3                          Bank of China          2,989.16\n",
      "4         Mitsubishi UFJ Financial Group          2,773.82\n"
     ]
    }
   ],
   "source": [
    "# ACCESSING COLUMNS AND CELLS\n",
    "# můžeme kombinovat i více hodnot v loc a iloc -> vkládáme je do listu --> proto tolik hranatých závorek \n",
    "\n",
    "#print(df.columns)\n",
    "#print(type(df.columns))\n",
    "#print(list(df.columns))\n",
    "#print(df.bank)\n",
    "#print(df[\"bank\"])\n",
    "\n",
    "\n",
    "#print(df[[\"bank\",\"country\"]]) # POZOR dvojite [[]]\n",
    "\n",
    "#print(df.loc[0:10, \"rank\":\"country\"])\n",
    "#print(df.loc[0:10, [\"rank\",\"country\"]])\n",
    "\n",
    "\n",
    "#print(df.iloc[0:10, 0:3]) #slicing bez hranatých závorek\n",
    "#print(df.iloc[[0,3,5,10], 0:3]) #radek 0 a 10 \n",
    "#print(df.iloc[[0:10], 0:3]) #error\n",
    "#print(df.iloc[[0:10], [0:3]]) #error\n",
    "\n",
    "#print(df.iloc[[2], [1]])\n",
    "#print(type(df.iloc[[2], [1]]))\n",
    "#print(df.iloc[2,1])\n",
    "#print(type(df.iloc[2,1]))\n",
    "#print(df.loc[2, \"bank\"])\n",
    "#print(type(df.loc[2, \"bank\"]))\n",
    "\n",
    "# alternativní zápis\n",
    "rows = [0,1,2,3,4]\n",
    "cols=[\"bank\", \"total_assets_us_b\"]\n",
    "print(df.loc[rows, cols])"
   ]
  },
  {
   "cell_type": "markdown",
   "id": "5f6285fe",
   "metadata": {},
   "source": [
    "### Filtrování dat podle podmínek"
   ]
  },
  {
   "cell_type": "raw",
   "id": "41e12e08",
   "metadata": {},
   "source": [
    "# Syntax\n",
    "\n",
    "1) Buď vytvoříme podmínku zvlášť (good practice// standart ji nazvat \"filt\" --> otázka: proč ne \"filter\"?) pod proměnou a tu vložíme do výrazu\n",
    "\n",
    "high_rank = df[\"rank\"] < 15\n",
    "filt = df[\"rank\"] < 15\n",
    "high_rank_filter = df[\"rank\"] < 15\n",
    "\n",
    "print(df.loc[high_rank,[\"country\", \"bank\"]])\n",
    "\n",
    "\n",
    "2) Výraz rovnou vkládáme do loc / iloc\n",
    "df.loc[df[\"rank\"] < 15, :]\n",
    "\n",
    "Podmínek může být víc a spojujeme je pomocí výrazů & (AND) | (OR)\n",
    "df.loc[\n",
    "    (df[\"rank\"] < 15) & (df[\"country\"] != 'China'), \n",
    "    ['bank'],\n",
    "]\n",
    "\n",
    "\n",
    "# Doplnění pro samostudium\n",
    "Podmínky se dají vytvářek i přes iloc, nicméně je to o trochu složitější -> musíme je konvertovat do listu (viz. článek)\n",
    "# zajímavost v článku - import z csv bez headers -> sloupce jsou jen indexy\n",
    "\n"
   ]
  },
  {
   "cell_type": "code",
   "execution_count": 58,
   "id": "383cde09",
   "metadata": {},
   "outputs": [
    {
     "name": "stdout",
     "output_type": "stream",
     "text": [
      "                              bank\n",
      "4   Mitsubishi UFJ Financial Group\n",
      "5              JPMorgan Chase & Co\n",
      "6                    HSBC Holdings\n",
      "7                      BNP Paribas\n",
      "8                  Bank of America\n",
      "10           Credit Agricole Group\n",
      "11                     Wells Fargo\n",
      "12                 Japan Post Bank\n",
      "13          Mizuho Financial Group\n"
     ]
    }
   ],
   "source": [
    "# FILTERING\n",
    "#filt = (df['bank'] == 'Bank of China') & (df['country'] == 'China') # | == AND\n",
    "#filt = (df['bank'] == 'Suntrust Banks') | (df['country'] == 'China') # | == OR\n",
    "\n",
    "#print(filt)\n",
    "#print(type(filt))\n",
    "#print(df.loc[filt, [\"rank\", \"total_assets_us_b\"]])  # print all under filter\n",
    "#print(40*\"*\")\n",
    "#print(df.loc[-filt, [\"bank\", \"total_assets_us_b\"]]) # printing all NOT in filter\n",
    "\n",
    "\n",
    "#high_rank = (df[\"rank\"] < 15)\n",
    "#print(df.loc[high_rank])\n",
    "#print(df.loc[high_rank,\"rank\":\"country\"])\n",
    "\n",
    "#print(df.loc[df[\"rank\"] < 15, :])\n",
    "print(df.loc[\n",
    "    (df[\"rank\"] < 15) & (df[\"country\"] != 'China'), \n",
    "    ['bank'],\n",
    "]) # už se to začíná podobat SQL :) \n"
   ]
  },
  {
   "cell_type": "markdown",
   "id": "5deecb3f",
   "metadata": {},
   "source": [
    "### Pokročilejší filtrace a změny názvů sloupců, změny dat"
   ]
  },
  {
   "cell_type": "code",
   "execution_count": 108,
   "id": "122e3729",
   "metadata": {},
   "outputs": [
    {
     "name": "stdout",
     "output_type": "stream",
     "text": [
      "     rank                            jmeno banky         zeme  \\\n",
      "0       1  Industrial & Commercial Bank of China        China   \n",
      "1       2           China Construction Bank Corp        China   \n",
      "2       3             Agricultural Bank of China        China   \n",
      "3       4                          Bank of China        China   \n",
      "4       5         Mitsubishi UFJ Financial Group        Japan   \n",
      "..    ...                                    ...          ...   \n",
      "115   116                    Qatar National Bank        Qatar   \n",
      "116   117                National Bank of Canada       Canada   \n",
      "117   118                         Suntrust Banks          USA   \n",
      "118   119                 Korea Development Bank  South Korea   \n",
      "119   120                                Belfius      Belgium   \n",
      "\n",
      "    total_assets_us_b balance_sheet  \n",
      "0            4,005.58    2017-12-31  \n",
      "1            3,397.13    2017-12-31  \n",
      "2            3,232.68    2017-12-31  \n",
      "3            2,989.16    2017-12-31  \n",
      "4            2,773.82    2017-12-31  \n",
      "..                ...           ...  \n",
      "115            221.18    2017-12-31  \n",
      "116           208.408    2017-12-31  \n",
      "117           205.962    2017-12-31  \n",
      "118           205.145    2016-12-31  \n",
      "119           201.192    2017-12-31  \n",
      "\n",
      "[120 rows x 5 columns]\n"
     ]
    }
   ],
   "source": [
    "#1 funkce .isin # hledá jestli je zadaná hodnota v nějakém extrerním listu\n",
    "\n",
    "#eu_countries = [\"UK\", \"France\", \"Germany\", \"Italy\", \"Spain\"] # UK not anymore :)\n",
    "#filt = df[\"country\"].isin(eu_countries)\n",
    "#print(filt) # bool -> True // False\n",
    "#print(df.loc[filt]) # 6 7  HSBC Holdings  UK  2,521.77....\n",
    "#print(df.loc[filt, \"bank\"])  # 6 HSBC Holdings\n",
    "\n",
    "#2 funkce .str.contains\n",
    "\n",
    "#filt = df[\"country\"].str.contains('US') # string that contains \"US\" (to catch US and USA) and if there is empty value --> it is True\n",
    "#print(filt)\n",
    "#filt = df[\"country\"].str.contains('U')  # UK, USA\n",
    "#print(df.loc[filt]) # printing only those rows chosen by filter (== containg US)\n",
    "\n",
    "#UKOL: Napište query která vyfitruje všechny banky, které mají v názvu slovo \"Bank\"\n",
    "#filt = df[\"bank\"].str.contains(\"Bank\")\n",
    "#print(filt)\n",
    "#print(df.loc[filt])\n",
    "\n",
    "#3 funkce .rename\n",
    "#print(df)\n",
    "#df = df.rename(columns = {\"bank\":\"jmeno banky\", \"country\": \"zeme\"}) #bez inplace to failuje\n",
    "#print(df)\n",
    "#print(df.rename(columns={\"bank\":\"jmeno banky\", \"country\": \"zeme\"}, inplace=True))\n",
    "\n",
    "#print(df)\n",
    "#filt = df[\"jmeno banky\"].str.contains(\"Bank\")\n",
    "#print(filt)\n",
    "\n",
    "# funkce .map\n",
    "#df[\"zeme\"] = df[\"zeme\"].map({\"USA\": \"Amerika\", \"China\": \"Cina\"}) # hodi to NAN na všechny ostatni --> lepši použivat s True / False\n",
    "#print(df[\"zeme\"])\n",
    "#df[\"zeme\"] = df[\"zeme\"].map({\"Cina\": True}) # zbytek je NaN\n",
    "# print(df[\"zeme\"])\n",
    "\n",
    "#format = lambda x: x.upper()\n",
    "#df = df[\"zeme\"].map(format) # musíme to dát do proměné --> DF =\n",
    "#print(df)"
   ]
  },
  {
   "cell_type": "markdown",
   "id": "e2b2fd45",
   "metadata": {},
   "source": [
    "všechny fuknce co umí pandas: https://pandas.pydata.org/docs/reference/frame.html"
   ]
  },
  {
   "cell_type": "markdown",
   "id": "233aa12a",
   "metadata": {},
   "source": [
    "### Úprava dat"
   ]
  },
  {
   "cell_type": "code",
   "execution_count": 117,
   "id": "9a64f665",
   "metadata": {},
   "outputs": [
    {
     "name": "stdout",
     "output_type": "stream",
     "text": [
      "     rank                            bank      country total_assets_us_b  \\\n",
      "0       1                            CSOB      Czechia              1000   \n",
      "1       2                             VUB     Slovakia          3,397.13   \n",
      "2       3                    Banka v Cine         Cina          3,232.68   \n",
      "3       4                    Banka v Cine         Cina          2,989.16   \n",
      "4       5  Mitsubishi UFJ Financial Group        Japan          2,773.82   \n",
      "..    ...                             ...          ...               ...   \n",
      "115   116             Qatar National Bank        Qatar            221.18   \n",
      "116   117         National Bank of Canada       Canada           208.408   \n",
      "117   118                  Suntrust Banks          USA           205.962   \n",
      "118   119          Korea Development Bank  South Korea           205.145   \n",
      "119   120                         Belfius      Belgium           201.192   \n",
      "\n",
      "    balance_sheet  \n",
      "0      2020-12-31  \n",
      "1      2017-12-31  \n",
      "2      2017-12-31  \n",
      "3      2017-12-31  \n",
      "4      2017-12-31  \n",
      "..            ...  \n",
      "115    2017-12-31  \n",
      "116    2017-12-31  \n",
      "117    2017-12-31  \n",
      "118    2016-12-31  \n",
      "119    2017-12-31  \n",
      "\n",
      "[120 rows x 5 columns]\n"
     ]
    }
   ],
   "source": [
    "# Vložení nových dat do sloupce\n",
    "#print(df)\n",
    "#print(df.loc[0])\n",
    "#df.loc[0] = [1, \"CSOB\", \"Czechia\", \"1000\", \"2020-12-31\"]\n",
    "#print(df.loc[0])\n",
    "#print(type(df.loc[0, \"bank\"])) # class str\n",
    "#print(type(df.loc[0, [\"bank\", \"country\"]])) #class <class 'pandas.core.series.Series'>\n",
    "\n",
    "\n",
    "#print(df.loc[1])\n",
    "#df.loc[1, [\"bank\", \"country\"]] = [\"VUB\", \"Slovakia\"]\n",
    "#print(df.loc[1])\n",
    "\n",
    "# Nahrazení více dat najednou podle podmínek\n",
    "\n",
    "filt = (df[\"country\"] == \"China\")\n",
    "df.loc[filt, [\"country\", \"bank\"]] = [\"Cina\", \"Banka v Cine\"]\n",
    "print(df)\n",
    "\n",
    "# Úpravy a agregační funkce - APPLY, LEN, MAP\n",
    "\n",
    "# funkce LEN\n",
    "#print(df[\"country\"].apply(len))\n",
    "\n",
    "# LAMBDA funkce\n",
    "#format = lambda x: x.upper()\n",
    "#df = df[\"zeme\"].map(format) # musíme to dát do proměné --> DF =\n",
    "#print(df)\n",
    "\n",
    "# Normální funkce \n",
    "# APPLY\n",
    "def make_it_upper(name):\n",
    "    return name.upper()\n",
    "#df = df[\"country\"].apply(make_it_upper) # nefunfuje bez df = || hodí error s make_it_upper()\n",
    "#print(df)\n",
    "\n",
    "#df[\"country\"] = df[\"country\"].apply(lambda x: x.lower())\n",
    "#print(df)\n",
    "\n",
    "#print(len(df[\"rank\"]))\n",
    "#print(len(df[\"rank\", \"country\"])) # Error - > jen jedna proměná\n",
    "\n",
    "\n",
    "#print(df.apply(lambda x: x.min())) minima z každého sloupce\n",
    "#print(df.applymap(len)) # error - int has no len --> same for max, min\n",
    "#print(people_df.applymap(len))\n",
    "#print(people_df.applymap(max)) # interesting --> showing highest letter\n",
    "#print(people_df.applymap(str.lower))\n",
    "\n",
    "#df['country'] = df['country'].replace({'China': 'Cina', 'USA': 'United States'})\n",
    "#print(df)"
   ]
  },
  {
   "cell_type": "markdown",
   "id": "145f0e3a",
   "metadata": {},
   "source": [
    "## Zbytek se naučíme za pochodu :)"
   ]
  },
  {
   "cell_type": "raw",
   "id": "813d7105",
   "metadata": {},
   "source": [
    "# otevřete si v googlesheets/excelu soubor top100banks.csv"
   ]
  },
  {
   "cell_type": "raw",
   "id": "f2fd97ec",
   "metadata": {},
   "source": [
    "# ulozte si top100banks.csv do projektu v pycharmu abychom s nim mohli pracovat"
   ]
  },
  {
   "cell_type": "markdown",
   "id": "f505e766",
   "metadata": {},
   "source": [
    "### Excel - úkoly"
   ]
  },
  {
   "cell_type": "raw",
   "id": "1be85ee9",
   "metadata": {},
   "source": [
    "1) Seradte banky podle total assets od nejnižší po nejvyšší\n",
    "2) Seradte bank podle abecedy (z-a)\n",
    "3) Vypocitejte soucet všech assets, vypocitejte median vsech assets\n",
    "4) Vytvorte seznam vsech zemi v kterých se banky nachází (a-z)\n",
    "5) Udelejte tabulku - kolik bank je v které zemi (např: USA: 5) (pocet bank - od nejvic do nejmin)\n",
    "6) Udelejte tabulku - kolik bank je v které zemi a kolik mají dohromady assets (a-z)\n",
    "7) Udelejte tabulku kde bude z každé země pouze banky s nejvíce assets (a-z)\n",
    "8) Vypiste banky ktere zacinaji pouze na \"B\"\n",
    "9) Vypiste banky ktere maji assets nad 1000 mld USD \n",
    "10) Udelejte tabulku - banky zacinajici na stejne pismeno a kolik mají dohromady assets (a-z)"
   ]
  },
  {
   "cell_type": "markdown",
   "id": "54691e59",
   "metadata": {},
   "source": [
    "### Pandas úkoly :)"
   ]
  },
  {
   "cell_type": "raw",
   "id": "126676f0",
   "metadata": {},
   "source": [
    "1) Seradte banky podle total assets od nejnižší po nejvyšší\n",
    "2) Seradte bank podle abecedy (z-a)\n",
    "3) Vypocitejte soucet všech assets, vypocitejte median vsech assets\n",
    "4) Vytvorte seznam vsech zemi v kterých se banky nachází (a-z)\n",
    "5) Udelejte tabulku - kolik bank je v které zemi (např: USA: 5) (a-z)\n",
    "6) Udelejte tabulku - kolik bank je v které zemi a kolik mají dohromady assets (a-z)\n",
    "7) Udelejte tabulku kde bude z každé země pouze banky s nejvíce assets (a-z)\n",
    "8) Vypiste banky ktere zacinaji pouze na \"B\"\n",
    "9) Vypiste banky ktere maji assets nad 1000 mld USD \n",
    "10) Udelejte tabulku - banky zacinajici na stejne pismeno a kolik mají dohromady assets (a-z)"
   ]
  },
  {
   "cell_type": "raw",
   "id": "702024d0",
   "metadata": {},
   "source": [
    "Projdeme si je jeden po druhém spolu:\n",
    "5-15 min na task pro vás\n",
    "5 min - řešení a vysvětlení ode mě\n"
   ]
  },
  {
   "cell_type": "markdown",
   "id": "dd1ce76a",
   "metadata": {},
   "source": [
    "## 0)  Převést total assets na float"
   ]
  },
  {
   "cell_type": "raw",
   "id": "6da0023f",
   "metadata": {},
   "source": [
    "Nápověda:\n"
   ]
  },
  {
   "cell_type": "code",
   "execution_count": 131,
   "id": "f064adbf",
   "metadata": {},
   "outputs": [
    {
     "name": "stdout",
     "output_type": "stream",
     "text": [
      "     rank                                   bank      country  \\\n",
      "0       1  Industrial & Commercial Bank of China        China   \n",
      "1       2           China Construction Bank Corp        China   \n",
      "2       3             Agricultural Bank of China        China   \n",
      "3       4                          Bank of China        China   \n",
      "4       5         Mitsubishi UFJ Financial Group        Japan   \n",
      "..    ...                                    ...          ...   \n",
      "115   116                    Qatar National Bank        Qatar   \n",
      "116   117                National Bank of Canada       Canada   \n",
      "117   118                         Suntrust Banks          USA   \n",
      "118   119                 Korea Development Bank  South Korea   \n",
      "119   120                                Belfius      Belgium   \n",
      "\n",
      "     total_assets_us_b balance_sheet  \n",
      "0             4005.580    2017-12-31  \n",
      "1             3397.130    2017-12-31  \n",
      "2             3232.680    2017-12-31  \n",
      "3             2989.160    2017-12-31  \n",
      "4             2773.820    2017-12-31  \n",
      "..                 ...           ...  \n",
      "115            221.180    2017-12-31  \n",
      "116            208.408    2017-12-31  \n",
      "117            205.962    2017-12-31  \n",
      "118            205.145    2016-12-31  \n",
      "119            201.192    2017-12-31  \n",
      "\n",
      "[120 rows x 5 columns]\n"
     ]
    }
   ],
   "source": [
    "filt = lambda x: float(x.replace(\",\",\"\"))\n",
    "df[\"total_assets_us_b\"] = df[\"total_assets_us_b\"].map(filt)\n",
    "print(df)"
   ]
  },
  {
   "cell_type": "markdown",
   "id": "f5067e2c",
   "metadata": {},
   "source": [
    "## 1) Seradte banky podle total assets od nejnižší po nejvyšší"
   ]
  },
  {
   "cell_type": "raw",
   "id": "b0088236",
   "metadata": {},
   "source": [
    "Nápověda: vytisknout řádky opačně? jak zresetovat index?\n",
    "# pripadne -> pokud je assets float -> použít sort_values"
   ]
  },
  {
   "cell_type": "markdown",
   "id": "b7dac7b3",
   "metadata": {},
   "source": [
    "## 2) Seradte banky podle abecedy (z-a)"
   ]
  },
  {
   "cell_type": "code",
   "execution_count": null,
   "id": "3a345e2b",
   "metadata": {},
   "outputs": [],
   "source": [
    "Nápověda: funkce sort_values"
   ]
  },
  {
   "cell_type": "markdown",
   "id": "55c4153c",
   "metadata": {},
   "source": [
    "## 3) Součet všech assets, median assets"
   ]
  },
  {
   "cell_type": "raw",
   "id": "ee54cc64",
   "metadata": {},
   "source": [
    "Nápověda: assets na float\n",
    "google :) - pandas sum // pandas median (oficialni docs)"
   ]
  },
  {
   "cell_type": "markdown",
   "id": "1e6d4a96",
   "metadata": {},
   "source": [
    "## 4) Zbytek dám na slack :)"
   ]
  },
  {
   "cell_type": "code",
   "execution_count": null,
   "id": "a2a262a4",
   "metadata": {},
   "outputs": [],
   "source": []
  }
 ],
 "metadata": {
  "kernelspec": {
   "display_name": "Python 3 (ipykernel)",
   "language": "python",
   "name": "python3"
  },
  "language_info": {
   "codemirror_mode": {
    "name": "ipython",
    "version": 3
   },
   "file_extension": ".py",
   "mimetype": "text/x-python",
   "name": "python",
   "nbconvert_exporter": "python",
   "pygments_lexer": "ipython3",
   "version": "3.8.2"
  }
 },
 "nbformat": 4,
 "nbformat_minor": 5
}
