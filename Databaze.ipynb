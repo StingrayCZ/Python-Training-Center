{
 "cells": [
  {
   "cell_type": "markdown",
   "id": "b12d9123",
   "metadata": {},
   "source": [
    "# Data\n",
    "\n",
    "#### k zamyšlení"
   ]
  },
  {
   "cell_type": "markdown",
   "id": "73259a37",
   "metadata": {},
   "source": [
    "#### - všude kolem nás "
   ]
  },
  {
   "cell_type": "raw",
   "id": "e9fff5ac",
   "metadata": {},
   "source": [
    "# 1) máme účet v bance - banka má databázi účtů, údajů o klientech, transakcí atd.\n",
    "# 2) jdeme nakupovat - supermarket má databázi produktů, info o cenách\n",
    "# 3) firma - údaje o zaměstnancích, účetnictví\n",
    "# 4) seznam/idnes/novinky - databáze článků, autorů"
   ]
  },
  {
   "cell_type": "raw",
   "id": "19e41e2d",
   "metadata": {},
   "source": [
    "# 1) fyzický - papír - ten nás nezajímá :)\n",
    "# 2) elektronický \n",
    "    # a) excel - jednoduchý, vizuálně přívětivý, ideální pro menší množství informací, pomalý\n",
    "    # b) csv, json - stále jednoduchý, vhodný pro strojové zpracování, menší-střední množství dat, rychlejší\n",
    "    # c) databáze - robustní systém, schopný pojmout obrovské množství dat a rychle je procesovat\n",
    "\n",
    "S pythonem dokážeme pracovat se všemi výše zmíněnými"
   ]
  },
  {
   "cell_type": "markdown",
   "id": "2ef0d4ae",
   "metadata": {},
   "source": [
    "## Relační databáze\n",
    "https://python.en.sdacademy.pro/_slides/sql_databases/relational_databases.html#/2"
   ]
  },
  {
   "cell_type": "raw",
   "id": "0b43de04",
   "metadata": {},
   "source": [
    "Relační databáze uchovávají data v TABULKÁCH(tables). \n",
    "Tabulky mají sloupce (columns), řádky (rows) a záznamy (values)   # viz slide  "
   ]
  },
  {
   "cell_type": "raw",
   "id": "5021bb99",
   "metadata": {},
   "source": [
    "Slide 3: Table, row, column, value\n",
    "\n"
   ]
  },
  {
   "cell_type": "markdown",
   "id": "fb82e480",
   "metadata": {},
   "source": [
    "### RDBMS \n",
    "\n",
    "#### Relational database management system (RDBMS) je kolekce programů schopných vytvářet, upravovat, spravovat a komuikovat s daty v relačních databázíchi\n",
    "\n",
    "#### Pro komunikaci s databázemi (RDBMS) používáme SQL - Structured Query Language (Es Kjů El)\n"
   ]
  },
  {
   "cell_type": "raw",
   "id": "6f8e53df",
   "metadata": {},
   "source": [
    "SQL vypadá nějak takto:\n",
    "\n",
    "SELECT * FROM Customers\n",
    "ORDER BY CustomerName ASC;\n",
    "\n",
    "ukázat:\n",
    "\n",
    "sql funkce (panel vlevo) https://www.w3schools.com/sql/ \n",
    "nebo - https://www.techonthenet.com/postgresql/functions/index_alpha.php"
   ]
  },
  {
   "cell_type": "markdown",
   "id": "e4ea3e17",
   "metadata": {},
   "source": [
    "#### Příklady RBDMS\n",
    "- PostgreSQL - https://www.postgresql.org/ (open source, free)\n",
    "- MySQL - https://www.mysql.com/\n",
    "- MariaDB - https://mariadb.org/\n",
    "... proč všechny RBDMS mají ve znaku zvířata ??? :) \n",
    "... zajímavost - MySQL a MariaDB byly založeny/řízeny . Michaelem Widenius který má 3 děti – My, Max, a Maria ==> MySQL,MaxDB and the MySQL-Max distribution, and MariaDB\n"
   ]
  },
  {
   "cell_type": "markdown",
   "id": "f2a2986a",
   "metadata": {},
   "source": [
    "## RBDMS != (není) program pro práci s databázemi\n",
    "\n",
    "### Pro práci s databázemi používáme GUI (Graphical User Interface = grafické rozhraní) programy. Tyto programy mohou manipulovat s více různými RBDMS \n",
    "příklady GUI - https://retool.com/blog/best-postgresql-guis-in-2020/ \n",
    "\n",
    "moje doporučení: PgAdmin (free) - https://www.pgadmin.org/\n",
    "\n",
    "DBeaver (free) - https://dbeaver.com/\n",
    "\n",
    "Datagrip (placené, od výrobce Pycharmu) - https://www.jetbrains.com/datagrip/\n"
   ]
  },
  {
   "cell_type": "markdown",
   "id": "8c96e833",
   "metadata": {},
   "source": [
    "### Vlastnosti databází a RBDMS"
   ]
  },
  {
   "cell_type": "raw",
   "id": "b048f0fc",
   "metadata": {},
   "source": [
    "RBDMS se liší v možnostech nastavení zabezpečení, datových typů a dalších \"drobnostech\" (pro užití na našem levelu) \n",
    "\n",
    "\n",
    "Rozdíly:\n",
    "\n",
    " - počet možných uživatelů\n",
    " - hardware a software požadavky\n",
    " - množství dat\n",
    " - datové struktury (spíš ty komplexnější -> obrázky, hudba... NE string, int, atd.)"
   ]
  },
  {
   "cell_type": "markdown",
   "id": "7b8eeb5d",
   "metadata": {},
   "source": [
    "### Výhody použití databází "
   ]
  },
  {
   "cell_type": "raw",
   "id": "bb6253c6",
   "metadata": {},
   "source": [
    "Benefits of databases:\n",
    "\n",
    "Lepší porozumění datům -> lepší rozhodnutí (Chování zákazníků, historie transakcí, Machine Learning)\n",
    "\n",
    "Přehledné uchovávní dat\n",
    "\n",
    "Dobré možnosti zabezpečení (hesla, přístupy, zobrazování pouze části dat)\n",
    " \n",
    "Flexibilita - updatování, filtrování pomocí SQL + programovácích jazyků \n",
    "\n",
    "Spravování - admin, přístupy odkudkoliv, vysoká kontrola, zálohování\n",
    "\n",
    "Rychlost \n",
    "\n",
    "Struktura - jednotná struktura, předem definovaná (zajišťuje to rychlost, databáze jsou psané v Céčku)"
   ]
  },
  {
   "cell_type": "markdown",
   "id": "c56b680d",
   "metadata": {},
   "source": [
    "##### == prostě je to lepší než mít milion google sheetů "
   ]
  },
  {
   "cell_type": "markdown",
   "id": "ab57dd9e",
   "metadata": {},
   "source": [
    "## CRUD"
   ]
  },
  {
   "cell_type": "raw",
   "id": "cc6938f8",
   "metadata": {},
   "source": [
    "Základní RDBMS funkce - create, read, update and delete operation\n",
    "\n",
    "- C == vytvořit tabulku, vložit data\n",
    "- R == zobrazovat a filtrovat si data\n",
    "- U == měnit data\n",
    "- D == mazat \n",
    "\n",
    "S tímto se pojí možnosti nastavování práv pro uživatele databází\n",
    "- r - read only (== nemůžeš nic zkazit)\n",
    "- rw - read write (== můžeš něco zkazit, ale nemůžeš nic smazat)\n",
    "- admin - Peter Parker principle - with great power comes great responsibility :)"
   ]
  },
  {
   "cell_type": "markdown",
   "id": "ab5e6df8",
   "metadata": {},
   "source": [
    "### Primární klíč\n"
   ]
  },
  {
   "cell_type": "raw",
   "id": "b206af9e",
   "metadata": {},
   "source": [
    "Primary key je unikátní identifikátor (ID) záznamů (records)"
   ]
  },
  {
   "cell_type": "markdown",
   "id": "0749093b",
   "metadata": {},
   "source": [
    "### Foreign key ( primární klíč z jiné tabulky)"
   ]
  },
  {
   "cell_type": "raw",
   "id": "4685c397",
   "metadata": {},
   "source": [
    "Cizí klíč zajišťuje vztah mezi dvěma tabulkami - že hodnota v určeném sloupci jedné tabulky musí existovat v jiném klíči \n",
    "(viz prezentace)"
   ]
  },
  {
   "cell_type": "markdown",
   "id": "c3dd6ae6",
   "metadata": {},
   "source": [
    "### Relační = propojené "
   ]
  },
  {
   "cell_type": "raw",
   "id": "42976984",
   "metadata": {},
   "source": [
    "V databázi máme většinou více tabulek\n",
    "Mezi tabulkami existují propojení -> propojení pomocí IDs (primary key, foreign key)\n",
    "\n",
    "Primary key pro jednu tabulku může být Foreign key (cizí klíč) pro druhou   # viz slide"
   ]
  },
  {
   "cell_type": "markdown",
   "id": "c9e47c8e",
   "metadata": {},
   "source": [
    "ukázky relací: https://python.en.sdacademy.pro/coursebook/sql_databases/relational_databases/keys_relations/"
   ]
  },
  {
   "cell_type": "raw",
   "id": "4787ee1a",
   "metadata": {},
   "source": [
    "3 typy relací\n",
    "\n",
    "a) one to one - jeden záznam z tabulky A může být spojen jen s jedním záznamem z tabulky B\n",
    " - např: jeden člověk má právě jedno trvalé bydliště\n",
    " \n",
    "b) one to many - jeden záznam z tabulky A může být spojen jen s více záznamy z tabulky B\n",
    " - např: jeden autor může napsat 10 knih\n",
    " \n",
    "c) many to many - Každý záznam z tabulky A může být spojen s více záznamy z tabulky B. Je vyžadována třetí tabulka které se říká spojovací\n",
    " - např: kniha v knihovně může odkazovat na autorID a bookID"
   ]
  },
  {
   "cell_type": "markdown",
   "id": "00a25397",
   "metadata": {},
   "source": [
    "### Best practices pro databáze - Design rules for tables"
   ]
  },
  {
   "cell_type": "raw",
   "id": "7bebf185",
   "metadata": {},
   "source": [
    "Databáze by měla mít\n",
    "\n",
    "- jasný cíl: Jaká data, jaká struktura, jaký formát dat\n",
    "\n",
    "- neduplikovat data - nemít stejné záznamy ve více tabulkách (pracovat s foreign keys)\n",
    "\n",
    "- atomicity - jedno pole by mělo obsahovat jednu informaci\n",
    "\n",
    "- vyhnout se prázdným polím\n",
    "\n",
    "- unikátnost záznamů a jejich identifikace --> primary key(např: ISBN)\n",
    "\n",
    "vizuální příklady:\n",
    "https://python.en.sdacademy.pro/coursebook/sql_databases/relational_databases/table_design_rules/"
   ]
  },
  {
   "cell_type": "markdown",
   "id": "bfa45570",
   "metadata": {},
   "source": [
    "### Dobré zmínit - NoSQL databáze\n",
    "\n",
    "#### úložiště typu klíč-hodnota "
   ]
  },
  {
   "cell_type": "markdown",
   "id": "6e59281f",
   "metadata": {},
   "source": [
    "Redis - https://redis.io/commands\n",
    "MongoDb - https://docs.mongodb.com/manual/tutorial/query-documents/?_ga=2.79823127.1429306362.1642796010-676849440.1642796010\n"
   ]
  },
  {
   "cell_type": "markdown",
   "id": "f0391df6",
   "metadata": {},
   "source": [
    "SQL pomůcky:\n",
    "\n",
    "můžete si vytvořit databázi a provádět query online\n",
    "http://sqlfiddle.com/\n",
    "\n",
    "cvičná databáze a online query :\n",
    "\n",
    "https://www.w3schools.com/sql/trysql.asp?filename=trysql_asc\n"
   ]
  },
  {
   "cell_type": "markdown",
   "id": "4bfae3f4",
   "metadata": {},
   "source": [
    "## SQL = Jazyk databáze"
   ]
  },
  {
   "cell_type": "markdown",
   "id": "455ed951",
   "metadata": {},
   "source": [
    "### structured query language (SQL) -  UNIVERZÁLNÍ jazyk pro práci s daty v databázích"
   ]
  },
  {
   "cell_type": "raw",
   "id": "c7540f35",
   "metadata": {},
   "source": [
    "SQL funkce se dělí do 4 hlavních kategorií podle typu úkolů, které provádí. \n",
    "\n",
    "\n",
    "DDL (Data Definition Language) - language for defining data; it implements defining data structure\n",
    "\n",
    "- vytváření tabulek a definice datové struktury pro jednotlivé hodnoty\n",
    "CREATE, ALTER, DROP, TRUNCATE\n",
    "\n",
    "DML (Data Manipulation Language) - data manipulation language; it performs data select and modification\n",
    "- práce s daty, nejpoužívanější část pro nás. \n",
    "- SELECT, INSERT, UPDATE, DELETE\n",
    "\n",
    "DCL (Data Control Language) - data access control language\n",
    "- přístupová práva k datům\n",
    "- GRANT, REVOKE\n",
    "\n",
    "TCL (Transaction Control Language) - transaction control language; enables management of DML query groups.\n",
    "- kontrola transakčních operací. Možnost managementu DML queries"
   ]
  },
  {
   "cell_type": "markdown",
   "id": "a82b5358",
   "metadata": {},
   "source": [
    "### SQL is not case sensitive, so you can use uppercase and lowercase letters interchangeably but using UPPERCASE key word is good practise\n",
    "\n",
    "### Klíčová slova v SQL se píšou velkými písmeny (good practise). Ale SQL jazyk není case-sensitive"
   ]
  },
  {
   "cell_type": "markdown",
   "id": "582d0aa1",
   "metadata": {},
   "source": [
    "## Data types\n",
    "\n",
    "- v SQL máme jiné datové typy než v Pythonu (int, str, float, list...)\n",
    "\n",
    "přehled: https://python.en.sdacademy.pro/coursebook/sql_databases/sql/data_types/ "
   ]
  },
  {
   "cell_type": "markdown",
   "id": "010b7081",
   "metadata": {},
   "source": [
    "u každého sloupce se musí předem definovat jaký datový typ v něm bude"
   ]
  },
  {
   "cell_type": "markdown",
   "id": "9647a111",
   "metadata": {},
   "source": [
    "### Vytvoření databáze a account management"
   ]
  },
  {
   "cell_type": "raw",
   "id": "1dc09a82",
   "metadata": {},
   "source": [
    "CREATE DATABASE database_name;\n",
    "\n",
    "DROP DATABASE database_name;\n",
    "\n",
    "USE database_name;\n",
    "\n",
    "CREATE USER name [IDENTIFIED BY [PASSWORD]];\n",
    "\n",
    "DROP USER user_name;\n",
    "\n",
    "RENAME USER user_name TO new_user_name;\n",
    "\n",
    "SET PASSWORD FOR user_name=PASSWORD('new_password');\n"
   ]
  },
  {
   "cell_type": "code",
   "execution_count": null,
   "id": "c2bdb0fc",
   "metadata": {},
   "outputs": [],
   "source": []
  }
 ],
 "metadata": {
  "kernelspec": {
   "display_name": "Python 3 (ipykernel)",
   "language": "python",
   "name": "python3"
  },
  "language_info": {
   "codemirror_mode": {
    "name": "ipython",
    "version": 3
   },
   "file_extension": ".py",
   "mimetype": "text/x-python",
   "name": "python",
   "nbconvert_exporter": "python",
   "pygments_lexer": "ipython3",
   "version": "3.8.2"
  }
 },
 "nbformat": 4,
 "nbformat_minor": 5
}
